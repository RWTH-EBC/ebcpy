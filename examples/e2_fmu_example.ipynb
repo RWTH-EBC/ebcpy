{
    "cells": [
        {
            "cell_type": "code",
            "execution_count": null,
            "metadata": {},
            "outputs": [],
            "source": "\"\"\"\nGoals of this part of the examples:\n\n1. Learn how to use the `FMU_API`\n2. Understand model variables\n3. Learn how to change variables to store (`result_names`)\n4. Learn how to change parameters of a simulation\n5. Learn how to change inputs of a simulation\n6. Learn how to run simulations in parallel\n\"\"\"\n"
        },
        {
            "cell_type": "markdown",
            "metadata": {},
            "source": " Start by importing all relevant packages\n"
        },
        {
            "cell_type": "code",
            "execution_count": null,
            "metadata": {},
            "outputs": [],
            "source": "import pathlib\nimport numpy as np\nimport matplotlib.pyplot as plt\n"
        },
        {
            "cell_type": "markdown",
            "metadata": {},
            "source": " Imports from ebcpy\n"
        },
        {
            "cell_type": "code",
            "execution_count": null,
            "metadata": {},
            "outputs": [],
            "source": "from ebcpy import FMU_API, TimeSeriesData\n\n\ncd = None\nn_cpu = 1\nlog_fmu = True\nn_sim = 5\noutput_interval = 100\nwith_plot = True\n\n\n"
        },
        {
            "cell_type": "markdown",
            "metadata": {},
            "source": " General settings\n"
        },
        {
            "cell_type": "code",
            "execution_count": null,
            "metadata": {},
            "outputs": [],
            "source": "if cd is None:\n    cd = pathlib.Path(__file__).parent.joinpath(\"results\")\n\n"
        },
        {
            "cell_type": "markdown",
            "metadata": {},
            "source": " ######################### Simulation API Instantiation ##########################\n %% Setup the FMU-API:\n"
        },
        {
            "cell_type": "code",
            "execution_count": null,
            "metadata": {},
            "outputs": [],
            "source": "model_name = pathlib.Path(__file__).parent.joinpath(\"data\", \"HeatPumpSystemWithInput.fmu\")\nfmu_api = FMU_API(model_name=model_name,\n                  cd=cd,\n                  n_cpu=n_cpu,\n                  log_fmu=log_fmu)\nprint(\"Number of variables:\", len(fmu_api.variables))\nprint(\"Number of outputs:\", len(fmu_api.outputs))\nprint(\"Number of inputs:\", len(fmu_api.inputs))\nprint(\"Number of parameters:\", len(fmu_api.parameters))\nprint(\"Number of states:\", len(fmu_api.states))\nprint(\"Variables to store when simulating:\", fmu_api.result_names)\nprint(\"Outputs of the fmu\", fmu_api.outputs)\n\n"
        },
        {
            "cell_type": "markdown",
            "metadata": {},
            "source": " ######################### Simulation Setup Part ##########################\n Change the simulation settings:\n Which settings can I change?\n"
        },
        {
            "cell_type": "code",
            "execution_count": null,
            "metadata": {},
            "outputs": [],
            "source": "print(\"Supported setup options:\", fmu_api.get_simulation_setup_fields())\nfmu_api.sim_setup.start_time = 0\nfmu_api.sim_setup.stop_time = 3600\nfmu_api.sim_setup.output_interval = output_interval\n"
        },
        {
            "cell_type": "markdown",
            "metadata": {},
            "source": " Or pass a dictionary. This makes using configs (toml, json) much easier\n"
        },
        {
            "cell_type": "code",
            "execution_count": null,
            "metadata": {},
            "outputs": [],
            "source": "simulation_setup = {\"start_time\": 0,\n                    \"stop_time\": 3600,\n                    \"output_interval\": output_interval}\nfmu_api.set_sim_setup(sim_setup=simulation_setup)\n\n"
        },
        {
            "cell_type": "markdown",
            "metadata": {},
            "source": " ######################### Parameters ##########################\n Let's get some parameter to change, e.g. the capacity of the thermal mass:\n"
        },
        {
            "cell_type": "code",
            "execution_count": null,
            "metadata": {},
            "outputs": [],
            "source": "print(fmu_api.parameters['heaCap.C'])\nhea_cap_c = fmu_api.parameters['heaCap.C'].value\n"
        },
        {
            "cell_type": "markdown",
            "metadata": {},
            "source": " Let's alter it from 10% to 1000 % in n_sim simulations:\n"
        },
        {
            "cell_type": "code",
            "execution_count": null,
            "metadata": {},
            "outputs": [],
            "source": "sizings = np.linspace(0.1, 10, n_sim)\nparameters = []\nfor sizing in sizings:\n    parameters.append({\"heaCap.C\": hea_cap_c * sizing})\n\n"
        },
        {
            "cell_type": "markdown",
            "metadata": {},
            "source": " ######################### Inputs ##########################\n Let's also change the input of the simulation:\n"
        },
        {
            "cell_type": "code",
            "execution_count": null,
            "metadata": {},
            "outputs": [],
            "source": "print(\"Inputs names are:\", fmu_api.inputs)\n"
        },
        {
            "cell_type": "markdown",
            "metadata": {},
            "source": " We only have TDryBul (outdoor air temperature) as an input.\n Start with the setup of a time-index that matches our simulation setup\n Feel free to play around with the settings to see what happens if your time_index is malformed.\n"
        },
        {
            "cell_type": "code",
            "execution_count": null,
            "metadata": {},
            "outputs": [],
            "source": "time_index = np.arange(\n    fmu_api.sim_setup.start_time,\n    fmu_api.sim_setup.stop_time,\n    fmu_api.sim_setup.output_interval\n)\n"
        },
        {
            "cell_type": "markdown",
            "metadata": {},
            "source": " Apply some sinus function for the outdoor air temperature\n"
        },
        {
            "cell_type": "code",
            "execution_count": null,
            "metadata": {},
            "outputs": [],
            "source": "t_dry_bulb = np.sin(time_index/3600*np.pi) * 10 + 263.15\ndf_inputs = TimeSeriesData({\"TDryBul\": t_dry_bulb}, index=time_index)\n"
        },
        {
            "cell_type": "markdown",
            "metadata": {},
            "source": " Warning: If you enable the following line you will trigger an error.\n It only goes to show that inputs to the simulation must contain clear\n tags.\n df_inputs[('TDryBul', 'constant_0_degC')] = 275.15\n"
        },
        {
            "cell_type": "markdown",
            "metadata": {},
            "source": " ######################### Results to store ##########################\n As we vary the heating capacity,\n let's plot the influence on the temperature of said capacity:\n Per default, all outputs will be stored:\n"
        },
        {
            "cell_type": "code",
            "execution_count": null,
            "metadata": {},
            "outputs": [],
            "source": "print(\"Results that will be stored\", fmu_api.result_names)\n"
        },
        {
            "cell_type": "markdown",
            "metadata": {},
            "source": " In our case, we are not interested in Pel but in other states:\n First, the temperature\n Second, the input outdoor air temperature to see if our input is correctly used.\n"
        },
        {
            "cell_type": "code",
            "execution_count": null,
            "metadata": {},
            "outputs": [],
            "source": "fmu_api.result_names = [\"heatCap.T\", \"TDryBul\"]\n"
        },
        {
            "cell_type": "markdown",
            "metadata": {},
            "source": " Oops, `heatCap.T` is not part of the model. We warn you about such typos.\n This way, you can easier debug your simulations if something goes wrong.\n Set the correct names:\n"
        },
        {
            "cell_type": "code",
            "execution_count": null,
            "metadata": {},
            "outputs": [],
            "source": "fmu_api.result_names = [\"heaCap.T\", \"TDryBul\"]\nprint(\"Results that will be stored\", fmu_api.result_names)\n\n"
        },
        {
            "cell_type": "markdown",
            "metadata": {},
            "source": " ######################### Execute simulation ##########################\n Pass the created list to the simulate function\n"
        },
        {
            "cell_type": "code",
            "execution_count": null,
            "metadata": {},
            "outputs": [],
            "source": "results = fmu_api.simulate(parameters=parameters,\n                           inputs=df_inputs)\n\n"
        },
        {
            "cell_type": "markdown",
            "metadata": {},
            "source": " ######################### Closing ##########################\n Close the fmu. If you forget to do so,\n we call this function at the exit of your script.\n It deleted all extracted FMU files.\n"
        },
        {
            "cell_type": "code",
            "execution_count": null,
            "metadata": {},
            "outputs": [],
            "source": "fmu_api.close()\n\n"
        },
        {
            "cell_type": "markdown",
            "metadata": {},
            "source": " ######################### Visualization ##########################\n Plot the result\n"
        },
        {
            "cell_type": "code",
            "execution_count": null,
            "metadata": {},
            "outputs": [],
            "source": "fig, ax = plt.subplots(2, sharex=True)\nax[0].set_ylabel(\"TDryBul in K\")\nax[1].set_ylabel(\"T_Cap in K\")\nax[1].set_xlabel(\"Time in s\")\nax[0].plot(df_inputs, label=\"Inputs\", linestyle=\"--\")\nfor res, sizing in zip(results, sizings):\n    ax[0].plot(res['TDryBul'])\n    ax[1].plot(res['heaCap.T'], label=sizing)\nfor _ax in ax:\n    _ax.legend(bbox_to_anchor=(1, 1.05), loc=\"upper left\")\n\nif with_plot:\n    plt.show()\n\n\n\n"
        }
    ],
    "metadata": {
        "kernelspec": {
            "display_name": "Python 3",
            "language": "python",
            "name": "python3"
        },
        "language_info": {
            "codemirror_mode": {
                "name": "ipython",
                "version": 3
            },
            "file_extension": ".py",
            "mimetype": "text/x-python",
            "name": "python",
            "nbconvert_exporter": "python",
            "pygments_lexer": "ipython3",
            "version": "3.6.4"
        }
    },
    "nbformat": 4,
    "nbformat_minor": 2
}