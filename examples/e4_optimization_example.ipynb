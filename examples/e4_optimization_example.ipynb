{
    "cells": [
        {
            "cell_type": "code",
            "execution_count": null,
            "metadata": {},
            "outputs": [],
            "source": "\"\"\"\nGoals of this part of the examples:\n1. Learn how to create a custom `Optimizer` class\n2. Learn the different optimizer frameworks\n3. Learn the usage of `StatisticsAnalyzer`\n4. Understand the motivation behing `AixCaliBuHA`\n\"\"\"\n"
        },
        {
            "cell_type": "markdown",
            "metadata": {},
            "source": " Start by importing all relevant packages\n"
        },
        {
            "cell_type": "code",
            "execution_count": null,
            "metadata": {},
            "outputs": [],
            "source": "import matplotlib.pyplot as plt\nimport numpy as np\nimport sklearn.metrics as skmetrics\n"
        },
        {
            "cell_type": "markdown",
            "metadata": {},
            "source": " Imports from ebcpy\n"
        },
        {
            "cell_type": "code",
            "execution_count": null,
            "metadata": {},
            "outputs": [],
            "source": "from ebcpy.optimization import Optimizer\nfrom ebcpy.utils.statistics_analyzer import StatisticsAnalyzer\n\n\nstatistical_measure = \"MAE\"\nwith_plot = True\n\n\n"
        },
        {
            "cell_type": "markdown",
            "metadata": {},
            "source": " ######################### Class definition ##########################\n To create a custom optimizer, one needs to inherit from the Optimizer\n"
        },
        {
            "cell_type": "code",
            "execution_count": null,
            "metadata": {},
            "outputs": [],
            "source": "class PolynomalFitOptimizer(Optimizer):\n    \n"
        }
    ],
    "metadata": {
        "kernelspec": {
            "display_name": "Python 3",
            "language": "python",
            "name": "python3"
        },
        "language_info": {
            "codemirror_mode": {
                "name": "ipython",
                "version": 3
            },
            "file_extension": ".py",
            "mimetype": "text/x-python",
            "name": "python",
            "nbconvert_exporter": "python",
            "pygments_lexer": "ipython3",
            "version": "3.6.4"
        }
    },
    "nbformat": 4,
    "nbformat_minor": 2
}