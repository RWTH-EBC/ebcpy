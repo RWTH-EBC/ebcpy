{
    "cells": [
        {
            "cell_type": "code",
            "execution_count": null,
            "metadata": {},
            "outputs": [],
            "source": "\"\"\"\nGoals of this part of the examples:\n1. Learn how to use the `DymolaAPI`\n2. Learn the different result options of the simulation\n3. Learn how to convert inputs into the Dymola format\n\"\"\"\n"
        },
        {
            "cell_type": "markdown",
            "metadata": {},
            "source": " Start by importing all relevant packages\n"
        },
        {
            "cell_type": "code",
            "execution_count": null,
            "metadata": {},
            "outputs": [],
            "source": "import pathlib\nimport time\nimport numpy as np\nimport matplotlib.pyplot as plt\n"
        },
        {
            "cell_type": "markdown",
            "metadata": {},
            "source": " Imports from ebcpy\n"
        },
        {
            "cell_type": "code",
            "execution_count": null,
            "metadata": {},
            "outputs": [],
            "source": "from ebcpy import DymolaAPI, TimeSeriesData, FMU_API\nfrom ebcpy.utils.conversion import convert_tsd_to_modelica_txt\n\n\naixlib_mo\ncd = None\nn_cpu = 1\nwith_plot = True\n\n\n"
        },
        {
            "cell_type": "markdown",
            "metadata": {},
            "source": " General settings\n"
        },
        {
            "cell_type": "code",
            "execution_count": null,
            "metadata": {},
            "outputs": [],
            "source": "if cd is None:\n    cd = pathlib.Path(__file__).parent.joinpath(\"results\")\n\n"
        },
        {
            "cell_type": "markdown",
            "metadata": {},
            "source": " ######################### Simulation API Instantiation ##########################\n %% Setup the Dymola-API:\n"
        },
        {
            "cell_type": "code",
            "execution_count": null,
            "metadata": {},
            "outputs": [],
            "source": "dym_api = DymolaAPI(\n    model_name=\"AixLib.Systems.HeatPumpSystems.Examples.HeatPumpSystem\",\n    cd=cd,\n    n_cpu=n_cpu,\n    packages=[aixlib_mo],\n    show_window=True,\n    n_restart=-1,\n    equidistant_output=False,\n    get_structural_parameters=True\n    # Only necessary if you need a specific dymola version\n    #dymola_path=None,\n    #dymola_version=None\n)\nprint(\"Number of variables:\", len(dym_api.variables))\nprint(\"Number of outputs:\", len(dym_api.outputs))\nprint(\"Number of inputs:\", len(dym_api.inputs))\nprint(\"Number of parameters:\", len(dym_api.parameters))\nprint(\"Number of states:\", len(dym_api.states))\n\n"
        },
        {
            "cell_type": "markdown",
            "metadata": {},
            "source": " ######################### Settings ##########################\n To understand what is happening here we refer to fmu_example.py\n As both simulation_apis are based on the same class, most interfaces are equal.\n Only difference is the simulation setup:\n"
        },
        {
            "cell_type": "code",
            "execution_count": null,
            "metadata": {},
            "outputs": [],
            "source": "print(\"Fields of DymolaAPISetup\", DymolaAPI.get_simulation_setup_fields())\nprint(\"Fields of FMU_APISetup\", FMU_API.get_simulation_setup_fields())\n\nsimulation_setup = {\"start_time\": 0,\n                    \"stop_time\": 3600,\n                    \"output_interval\": 100}\ndym_api.set_sim_setup(sim_setup=simulation_setup)\np_el_name = \"heatPumpSystem.heatPump.sigBus.PelMea\"\ndym_api.result_names = [p_el_name]\n\n"
        },
        {
            "cell_type": "markdown",
            "metadata": {},
            "source": " ######################### Inputs ##########################\n Sadly, setting inputs directly is not supported in Dymola.\n Hence, you have to use the model `Modelica.Blocks.Sources.CombiTimeTable`.\n In the model \"AixLib.Systems.HeatPumpSystems.Examples.HeatPumpSystem\" we\n already use this model to simulate heat gains into the room\n We called the instance of the model `timTab`.\n To get the output of the table, let's add it to the result names:\n"
        },
        {
            "cell_type": "code",
            "execution_count": null,
            "metadata": {},
            "outputs": [],
            "source": "dym_api.result_names = [p_el_name, 'timTab.y[1]']\n"
        },
        {
            "cell_type": "markdown",
            "metadata": {},
            "source": " In order to change the inputs, you have to change the model in Dymola by:\n 1. Double click on timTab\n 2. Set tableOnFile = true\n 3. Set tableName = \"myCustomInput\" (or any other nice string)\n"
        },
        {
            "cell_type": "code",
            "execution_count": null,
            "metadata": {},
            "outputs": [],
            "source": "table_name = \"myCustomInput\"\n"
        },
        {
            "cell_type": "markdown",
            "metadata": {},
            "source": " 4. Enter the fileName where you want to store your input. This can be any filepath.\n For this tutorial to work, set\n fileName=Modelica.Utilities.Files.loadResource(\"modelica://AixLib/Resources/my_custom_input.txt\")\n"
        },
        {
            "cell_type": "code",
            "execution_count": null,
            "metadata": {},
            "outputs": [],
            "source": "file_name = pathlib.Path(aixlib_mo).parent.joinpath(\"Resources\", \"my_custom_input.txt\")\n"
        },
        {
            "cell_type": "markdown",
            "metadata": {},
            "source": " This input generate is re-used from the fmu_example.py file.\n"
        },
        {
            "cell_type": "code",
            "execution_count": null,
            "metadata": {},
            "outputs": [],
            "source": "time_index = np.arange(\n    dym_api.sim_setup.start_time,\n    dym_api.sim_setup.stop_time,\n    dym_api.sim_setup.output_interval\n)\n"
        },
        {
            "cell_type": "markdown",
            "metadata": {},
            "source": " Apply some sinus function for the outdoor air temperature\n"
        },
        {
            "cell_type": "code",
            "execution_count": null,
            "metadata": {},
            "outputs": [],
            "source": "internal_gains = np.sin(time_index/3600*np.pi) * 1000\ntsd_input = TimeSeriesData({\"InternalGains\": internal_gains}, index=time_index)\n"
        },
        {
            "cell_type": "markdown",
            "metadata": {},
            "source": " To generate the input in the correct format, use the convert_tsd_to_modelica_txt function:\n"
        },
        {
            "cell_type": "code",
            "execution_count": null,
            "metadata": {},
            "outputs": [],
            "source": "filepath = convert_tsd_to_modelica_txt(\n    tsd=tsd_input,\n    table_name=table_name,\n    save_path_file=file_name\n)\nprint(\"Successfully created Dymola input file at\", filepath)\n\n"
        },
        {
            "cell_type": "markdown",
            "metadata": {},
            "source": " ######################### Simulation options ##########################\n Look at the doc of simulate() in the website\n Besides parameters (explained in fmu_example), return_option is important\n"
        },
        {
            "cell_type": "code",
            "execution_count": null,
            "metadata": {},
            "outputs": [],
            "source": "result_time_series = dym_api.simulate(\n    return_option=\"time_series\",\n    # Info: You would not need these following keyword-arguments,\n    # as we've already created our file above.\n    # However, you can also pass the arguments\n    # from above directly into the function call:\n    inputs=tsd_input,\n    table_name=table_name,\n    file_name=file_name\n)\nprint(type(result_time_series))\nprint(result_time_series)\nresult_last_point = dym_api.simulate(\n    return_option=\"last_point\"\n)\nprint(type(result_last_point))\nprint(result_last_point)\nresult_sp = dym_api.simulate(\n    return_option=\"savepath\"\n)\nprint(result_sp)\n"
        },
        {
            "cell_type": "markdown",
            "metadata": {},
            "source": " Or change the savepath by using two keyword arguments.\n"
        },
        {
            "cell_type": "code",
            "execution_count": null,
            "metadata": {},
            "outputs": [],
            "source": "result_sp_2 = dym_api.simulate(\n    return_option=\"savepath\",\n    savepath=r\"D:\\00_temp\",\n    result_file_name=\"anotherResultFile\"\n)\nprint(result_sp_2)\n\n"
        },
        {
            "cell_type": "markdown",
            "metadata": {},
            "source": " ######################### Simulation analysis ##########################\n Now let's load the TimeSeriesData\n"
        },
        {
            "cell_type": "code",
            "execution_count": null,
            "metadata": {},
            "outputs": [],
            "source": "tsd_1 = TimeSeriesData(result_sp)\ntsd_2 = TimeSeriesData(result_sp_2)\nprint(\"Both .mat's are equal:\", all(tsd_1 == tsd_2))\n"
        },
        {
            "cell_type": "markdown",
            "metadata": {},
            "source": " Let's look at both results. The .mat-file contains more indexes as events are stored as well.\n The return_option 'time_series' omits these events (as does fmpy). Thus, it's less accurate.\n But, it's much faster!\n"
        },
        {
            "cell_type": "code",
            "execution_count": null,
            "metadata": {},
            "outputs": [],
            "source": "print(\"Number of points for option 'time_series':\", len(result_time_series.index))\nprint(\"Number of points for option 'savepath':\", len(tsd_1.index))\nplt.plot(tsd_1[p_el_name], color=\"blue\", label=\"savepath\", marker=\"^\")\nplt.plot(result_time_series[p_el_name], color=\"red\", label=\"time_series\", marker=\"^\")\nplt.scatter(result_last_point[\"Time\"], result_last_point[p_el_name],\n            color=\"black\", label=\"last_point\", marker=\"^\")\nplt.legend()\nplt.title(\"Difference in output for different return_options\")\nplt.figure()\nplt.plot(tsd_1['timTab.y[1]'], color=\"blue\")\nplt.title(\"Input of CombiTimeTable 'timTab'\")\nif with_plot:\n    plt.show()\n\n\n\n"
        }
    ],
    "metadata": {
        "kernelspec": {
            "display_name": "Python 3",
            "language": "python",
            "name": "python3"
        },
        "language_info": {
            "codemirror_mode": {
                "name": "ipython",
                "version": 3
            },
            "file_extension": ".py",
            "mimetype": "text/x-python",
            "name": "python",
            "nbconvert_exporter": "python",
            "pygments_lexer": "ipython3",
            "version": "3.6.4"
        }
    },
    "nbformat": 4,
    "nbformat_minor": 2
}